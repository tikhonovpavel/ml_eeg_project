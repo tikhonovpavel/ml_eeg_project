{
 "cells": [
  {
   "cell_type": "code",
   "execution_count": 284,
   "metadata": {},
   "outputs": [],
   "source": [
    "import numpy as np\n",
    "from tqdm.notebook import tqdm\n",
    "import matplotlib.pyplot as plt\n",
    "from scipy.special import softmax"
   ]
  },
  {
   "cell_type": "code",
   "execution_count": 285,
   "metadata": {},
   "outputs": [],
   "source": [
    "from sklearn.cluster import AgglomerativeClustering"
   ]
  },
  {
   "cell_type": "code",
   "execution_count": 382,
   "metadata": {},
   "outputs": [],
   "source": [
    "def metric_by_radius(y_true, y_pred, r):\n",
    "    \n",
    "    true_positives = 0  # they are true, and we chosen them\n",
    "    false_negatives = 0 # they are true, but we haven't chosen them\n",
    "    false_positives = 0  # they are false, but we chosen them\n",
    "\n",
    "    indices_good = set()\n",
    "\n",
    "    for i in range(len(y_true)):\n",
    "        dist = np.linalg.norm(y_pred - y_true[i], axis=1)\n",
    "\n",
    "\n",
    "        true_positives += int(len(dist[dist <= r]) > 0)\n",
    "\n",
    "\n",
    "        cur_true_indices = np.where(dist <= r)[0]\n",
    "        if len(cur_true_indices) > 0:\n",
    "            indices_good.update([cur_true_indices[0]])\n",
    "        else:\n",
    "            false_negatives += 1\n",
    "\n",
    "\n",
    "    false_positives = len(y_pred) - len(indices_good)\n",
    "    # false_positives_arr = np.delete(y_pred, list(indices_good), axis=0)\n",
    "\n",
    "    return true_positives, false_positives, false_negatives#, false_positives_arr"
   ]
  },
  {
   "cell_type": "code",
   "execution_count": 287,
   "metadata": {},
   "outputs": [],
   "source": [
    "# y_pred.shape, len(y_pred)"
   ]
  },
  {
   "cell_type": "code",
   "execution_count": 288,
   "metadata": {},
   "outputs": [],
   "source": [
    "def get_prob_of_dipole(output_arr_1, batch_number):\n",
    "    one_pred = []\n",
    "    # for key in example.keys():\n",
    "    one_pred.append(output_arr_1[batch_number, 0])\n",
    "    one_pred.append(output_arr_1[batch_number, 1])\n",
    "\n",
    "    one_pred = np.array(one_pred)\n",
    "    one_pred = np.transpose(one_pred, (1,2,3,0))\n",
    "    proba_one = softmax(one_pred, axis=3)\n",
    "\n",
    "    return proba_one[:, :, :, 1]\n",
    "\n",
    "\n",
    "def output_to_coords(array, threshold):\n",
    "    array = array.squeeze()\n",
    "\n",
    "    return np.array(np.where(array.squeeze() > threshold)).T"
   ]
  },
  {
   "cell_type": "code",
   "execution_count": 307,
   "metadata": {},
   "outputs": [],
   "source": [
    "batch_number = 0\n",
    "\n",
    "def load_output(path, do_print=False):\n",
    "\n",
    "    output = np.load(path)\n",
    "    # output_0, output_1, output_2 = output['arr_0'], output['arr_1'], output['arr_2']\n",
    "\n",
    "    y_pred = get_prob_of_dipole(output['arr_1'], batch_number)\n",
    "    y_true = output['arr_2'][batch_number].squeeze()\n",
    "\n",
    "    if do_print:\n",
    "        print(y_true.shape, np.min(y_true), np.max(y_true), np.mean(y_true))\n",
    "        print(y_pred.shape, np.min(y_pred), np.max(y_pred), np.mean(y_pred))\n",
    "\n",
    "    y_true = output_to_coords(y_true, 0.5)\n",
    "    y_pred = output_to_coords(y_pred, 0.6)\n",
    "\n",
    "    if do_print:\n",
    "        print(y_true.shape, np.min(y_true), np.max(y_true), np.mean(y_true))\n",
    "        print(y_pred.shape, np.min(y_pred), np.max(y_pred), np.mean(y_pred))\n",
    "\n",
    "    return y_true, y_pred"
   ]
  },
  {
   "cell_type": "code",
   "execution_count": 355,
   "metadata": {},
   "outputs": [],
   "source": [
    "\n",
    "def metric(output_path, rng):\n",
    "\n",
    "    result = []\n",
    "    for r in tqdm(np.arange(0, rng)):\n",
    "\n",
    "        y_true, y_pred = load_output(output_path)\n",
    "\n",
    "\n",
    "        ac = AgglomerativeClustering(n_clusters=None, distance_threshold=r)\n",
    "        y_pred_clusters = ac.fit_predict(y_pred,)\n",
    "\n",
    "        temp = []\n",
    "        for cluster_n in range(max(y_pred_clusters)):\n",
    "            temp.append(y_pred[y_pred_clusters == cluster_n].mean(axis=0))\n",
    "\n",
    "        y_pred = np.array(temp)\n",
    "\n",
    "        r_result = metric_by_radius(y_true, y_pred, r)\n",
    "        result.append(r_result)\n",
    "        # result.append(list(r_result) + [r_result[0] + r_result[1], max(y_pred_clusters)])\n",
    "\n",
    "    return np.array(result)"
   ]
  },
  {
   "cell_type": "code",
   "execution_count": 378,
   "metadata": {},
   "outputs": [],
   "source": [
    "def f1_r(tp, fp, fn, r):\n",
    "    f1_score = tp / (tp + 1/2*(fp + fn))\n",
    "\n",
    "    plt.plot(r, f1_score, marker='o')\n",
    "    plt.xlabel('radius')\n",
    "    plt.ylabel('f1 score')"
   ]
  },
  {
   "cell_type": "code",
   "execution_count": 383,
   "metadata": {},
   "outputs": [
    {
     "data": {
      "application/vnd.jupyter.widget-view+json": {
       "model_id": "a6bf9fc71d5942f8b8e0274562c449a5",
       "version_major": 2,
       "version_minor": 0
      },
      "text/plain": [
       "HBox(children=(FloatProgress(value=0.0, max=10.0), HTML(value='')))"
      ]
     },
     "metadata": {},
     "output_type": "display_data"
    },
    {
     "name": "stdout",
     "output_type": "stream",
     "text": [
      "\n"
     ]
    },
    {
     "data": {
      "text/plain": [
       "array([[   2, 1562,  321],\n",
       "       [  16, 1548,  307],\n",
       "       [  32,  870,  291],\n",
       "       [  47,  530,  276],\n",
       "       [  60,  376,  263],\n",
       "       [  77,  279,  246],\n",
       "       [  90,  218,  233],\n",
       "       [ 104,  175,  219],\n",
       "       [ 114,  149,  209],\n",
       "       [ 131,  124,  192]])"
      ]
     },
     "execution_count": 383,
     "metadata": {},
     "output_type": "execute_result"
    },
    {
     "data": {
      "image/png": "[encoded data removed]",
      "text/plain": [
       "<Figure size 640x480 with 1 Axes>"
      ]
     },
     "metadata": {},
     "output_type": "display_data"
    }
   ],
   "source": [
    "# (tp, fp, fn)\n",
    "rgn = 10\n",
    "m = metric('results/aug_none_49_epoch/test_7_pred.npz', rgn)\n",
    "f1_r(*m.T, np.arange(rgn))\n",
    "m"
   ]
  },
  {
   "cell_type": "code",
   "execution_count": 381,
   "metadata": {},
   "outputs": [
    {
     "data": {
      "application/vnd.jupyter.widget-view+json": {
       "model_id": "fddf3ac65f074c5abdecd9fb16f6d5e7",
       "version_major": 2,
       "version_minor": 0
      },
      "text/plain": [
       "HBox(children=(FloatProgress(value=0.0, max=10.0), HTML(value='')))"
      ]
     },
     "metadata": {},
     "output_type": "display_data"
    },
    {
     "name": "stdout",
     "output_type": "stream",
     "text": [
      "\n"
     ]
    },
    {
     "data": {
      "text/plain": [
       "array([[   2, 1562,  321],\n",
       "       [  16, 1548,  307],\n",
       "       [  32,  869,  291],\n",
       "       [  47,  529,  276],\n",
       "       [  60,  371,  263],\n",
       "       [  77,  266,  246],\n",
       "       [  90,  189,  233],\n",
       "       [ 104,  133,  219],\n",
       "       [ 114,   89,  209],\n",
       "       [ 131,   52,  192]])"
      ]
     },
     "execution_count": 381,
     "metadata": {},
     "output_type": "execute_result"
    },
    {
     "data": {
      "image/png": "[encoded data removed]",
      "text/plain": [
       "<Figure size 640x480 with 1 Axes>"
      ]
     },
     "metadata": {},
     "output_type": "display_data"
    }
   ],
   "source": [
    "# (tp, fp, fn)\n",
    "rgn = 10\n",
    "m = metric('results/aug_none_49_epoch/test_7_pred.npz', rgn)\n",
    "f1_r(*m.T, np.arange(rgn))\n",
    "m"
   ]
  },
  {
   "cell_type": "code",
   "execution_count": 359,
   "metadata": {},
   "outputs": [
    {
     "data": {
      "text/plain": [
       "(10, 3)"
      ]
     },
     "execution_count": 359,
     "metadata": {},
     "output_type": "execute_result"
    }
   ],
   "source": [
    "m.shape"
   ]
  },
  {
   "cell_type": "code",
   "execution_count": null,
   "metadata": {},
   "outputs": [],
   "source": []
  },
  {
   "cell_type": "code",
   "execution_count": 345,
   "metadata": {},
   "outputs": [
    {
     "data": {
      "text/plain": [
       "[<matplotlib.lines.Line2D at 0x27f93957c10>]"
      ]
     },
     "execution_count": 345,
     "metadata": {},
     "output_type": "execute_result"
    },
    {
     "data": {
      "image/png": "[encoded data removed]",
      "text/plain": [
       "<Figure size 640x480 with 1 Axes>"
      ]
     },
     "metadata": {},
     "output_type": "display_data"
    }
   ],
   "source": [
    "%matplotlib inline\n",
    "from scipy.spatial.distance import cdist\n",
    "dist_matrix = cdist(y_true, y_true) + np.triu([1]*len(y_true)) * 99999\n",
    "\n",
    "dm_flatten = dist_matrix.flatten()\n",
    "\n",
    "res = []\n",
    "for d in np.arange(10):\n",
    "\n",
    "    res.append(len(dm_flatten[dm_flatten <= d]))\n",
    "\n",
    "plt.plot(np.arange(10), res)\n",
    "x"
   ]
  },
  {
   "cell_type": "code",
   "execution_count": null,
   "metadata": {},
   "outputs": [
    {
     "data": {
      "text/plain": [
       "<mpl_toolkits.mplot3d.art3d.Path3DCollection at 0x27f8859e0d0>"
      ]
     },
     "execution_count": 245,
     "metadata": {},
     "output_type": "execute_result"
    }
   ],
   "source": [
    "%matplotlib qt\n",
    "ax = plt.subplot(111, projection='3d')\n",
    "\n",
    "ax.scatter(*y_true.T, c='blue', alpha=1)\n",
    "ax.scatter(*y_pred.T, c='red', alpha=1)"
   ]
  },
  {
   "cell_type": "code",
   "execution_count": null,
   "metadata": {},
   "outputs": [
    {
     "data": {
      "text/plain": [
       "<mpl_toolkits.mplot3d.art3d.Path3DCollection at 0x27f885b5dc0>"
      ]
     },
     "execution_count": 246,
     "metadata": {},
     "output_type": "execute_result"
    }
   ],
   "source": [
    "%matplotlib qt\n",
    "ax = plt.subplot(111, projection='3d')\n",
    "\n",
    "_, _, false_pos = metric_by_radius(y_true, y_pred, 2)\n",
    "\n",
    "ax.scatter(*y_true.T, c='blue', alpha=1)\n",
    "ax.scatter(*y_pred[false_pos].T, c='red', alpha=1)"
   ]
  },
  {
   "cell_type": "code",
   "execution_count": null,
   "metadata": {},
   "outputs": [
    {
     "data": {
      "text/plain": [
       "(1468, 3)"
      ]
     },
     "execution_count": 247,
     "metadata": {},
     "output_type": "execute_result"
    }
   ],
   "source": [
    "false_pos.shape"
   ]
  }
 ],
 "metadata": {
  "kernelspec": {
   "display_name": "Python 3",
   "language": "python",
   "name": "python3"
  },
  "language_info": {
   "codemirror_mode": {
    "name": "ipython",
    "version": 3
   },
   "file_extension": ".py",
   "mimetype": "text/x-python",
   "name": "python",
   "nbconvert_exporter": "python",
   "pygments_lexer": "ipython3",
   "version": "3.8.6"
  },
  "orig_nbformat": 4
 },
 "nbformat": 4,
 "nbformat_minor": 2
}
