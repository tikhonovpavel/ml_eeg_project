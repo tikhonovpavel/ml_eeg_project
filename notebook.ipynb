{
 "cells": [
  {
   "cell_type": "code",
   "execution_count": 1,
   "metadata": {},
   "outputs": [],
   "source": [
    "from pv_data_viz import pv_viz\n",
    "import pyvista as pv\n",
    "import matplotlib.pyplot as plt\n",
    "import numpy as np\n",
    "import glob\n",
    "\n",
    "np.set_printoptions(suppress=True) "
   ]
  },
  {
   "cell_type": "code",
   "execution_count": 2,
   "metadata": {},
   "outputs": [],
   "source": [
    "# # !pip install pyvista\n",
    "# !pip"
   ]
  },
  {
   "cell_type": "code",
   "execution_count": null,
   "metadata": {},
   "outputs": [],
   "source": []
  },
  {
   "cell_type": "code",
   "execution_count": 3,
   "metadata": {},
   "outputs": [
    {
     "name": "stdout",
     "output_type": "stream",
     "text": [
      "Razorenova_128-eeg1005_ico4-dip_ico4-bem/Parcellation_all-lbl\\all-lbl_eeg-0.npy\n",
      "Razorenova_128-eeg1005_ico4-dip_ico4-bem/Parcellation_all-lbl\\all-lbl_dip-0.npy\n",
      "eeg shape: (122, 4), dip shape: (5123, 4)\n",
      "\n",
      "Razorenova_128-eeg1005_ico4-dip_ico4-bem/Parcellation_all-lbl\\all-lbl_eeg-1.npy\n",
      "Razorenova_128-eeg1005_ico4-dip_ico4-bem/Parcellation_all-lbl\\all-lbl_dip-1.npy\n",
      "eeg shape: (122, 4), dip shape: (5123, 4)\n",
      "\n",
      "Razorenova_128-eeg1005_ico4-dip_ico4-bem/Parcellation_all-lbl\\all-lbl_eeg-2.npy\n",
      "Razorenova_128-eeg1005_ico4-dip_ico4-bem/Parcellation_all-lbl\\all-lbl_dip-2.npy\n",
      "eeg shape: (122, 4), dip shape: (5123, 4)\n",
      "\n",
      "Razorenova_128-eeg1005_ico4-dip_ico4-bem/Parcellation_2-lbl\\2-lbl_eeg-0.npy\n",
      "Razorenova_128-eeg1005_ico4-dip_ico4-bem/Parcellation_2-lbl\\2-lbl_dip-0.npy\n",
      "eeg shape: (122, 4), dip shape: (5123, 4)\n",
      "\n",
      "Razorenova_128-eeg1005_ico4-dip_ico4-bem/Parcellation_2-lbl\\2-lbl_eeg-1.npy\n",
      "Razorenova_128-eeg1005_ico4-dip_ico4-bem/Parcellation_2-lbl\\2-lbl_dip-1.npy\n",
      "eeg shape: (122, 4), dip shape: (5123, 4)\n",
      "\n",
      "Razorenova_128-eeg1005_ico4-dip_ico4-bem/Parcellation_2-lbl\\2-lbl_eeg-2.npy\n",
      "Razorenova_128-eeg1005_ico4-dip_ico4-bem/Parcellation_2-lbl\\2-lbl_dip-2.npy\n",
      "eeg shape: (122, 4), dip shape: (5123, 4)\n",
      "\n",
      "Razorenova_128-eeg1005_ico4-dip_ico4-bem/Parcellation_2-lbl\\2-lbl_eeg-3.npy\n",
      "Razorenova_128-eeg1005_ico4-dip_ico4-bem/Parcellation_2-lbl\\2-lbl_dip-3.npy\n",
      "eeg shape: (122, 4), dip shape: (5123, 4)\n",
      "\n",
      "Razorenova_128-eeg1005_ico4-dip_ico4-bem/Parcellation_2-lbl\\2-lbl_eeg-4.npy\n",
      "Razorenova_128-eeg1005_ico4-dip_ico4-bem/Parcellation_2-lbl\\2-lbl_dip-4.npy\n",
      "eeg shape: (122, 4), dip shape: (5123, 4)\n",
      "\n"
     ]
    }
   ],
   "source": [
    "for v in ['all', '2']:\n",
    "    for eeg in glob.glob(f'Razorenova_128-eeg1005_ico4-dip_ico4-bem/Parcellation_{v}-lbl/*eeg-*'):\n",
    "        dip = eeg.replace(f'{v}-lbl_eeg', f'{v}-lbl_dip')\n",
    "\n",
    "        print(eeg)\n",
    "        print(dip)\n",
    "        print(f'eeg shape: {np.load(eeg).shape}, dip shape: {np.load(dip).shape}')\n",
    "        print()"
   ]
  },
  {
   "cell_type": "code",
   "execution_count": null,
   "metadata": {},
   "outputs": [],
   "source": []
  },
  {
   "cell_type": "code",
   "execution_count": null,
   "metadata": {},
   "outputs": [],
   "source": []
  },
  {
   "cell_type": "code",
   "execution_count": 4,
   "metadata": {},
   "outputs": [
    {
     "data": {
      "application/vnd.jupyter.widget-view+json": {
       "model_id": "b7cdd0d0a22948959cb8ebf03377f12f",
       "version_major": 2,
       "version_minor": 0
      },
      "text/plain": [
       "Widget(value=\"<iframe src='http://localhost:63535/index.html?ui=P_0x2a6e36a0e80_0&reconnect=auto' style='width…"
      ]
     },
     "metadata": {},
     "output_type": "display_data"
    }
   ],
   "source": [
    "pl = pv_viz(eeg_file='Razorenova_128-eeg1005_ico4-dip_ico4-bem/Parcellation_all-lbl/all-lbl_eeg-0.npy',\n",
    "              dip_file='Razorenova_128-eeg1005_ico4-dip_ico4-bem/Parcellation_all-lbl/all-lbl_dip-0.npy',\n",
    "              head_file='AR_head_mfem.vtk')\n",
    "pl.show(title='adsfd')\n"
   ]
  },
  {
   "cell_type": "code",
   "execution_count": 5,
   "metadata": {},
   "outputs": [
    {
     "data": {
      "application/vnd.jupyter.widget-view+json": {
       "model_id": "5e34baab245047a88f20d0754c30834e",
       "version_major": 2,
       "version_minor": 0
      },
      "text/plain": [
       "Widget(value=\"<iframe src='http://localhost:63535/index.html?ui=P_0x2a6e50cec70_1&reconnect=auto' style='width…"
      ]
     },
     "metadata": {},
     "output_type": "display_data"
    }
   ],
   "source": [
    "pl = pv_viz(eeg_file='Razorenova_128-eeg1005_ico4-dip_ico4-bem/Parcellation_all-lbl/all-lbl_eeg-1.npy',\n",
    "              dip_file='Razorenova_128-eeg1005_ico4-dip_ico4-bem/Parcellation_all-lbl/all-lbl_dip-1.npy',\n",
    "              head_file='AR_head_mfem.vtk')\n",
    "pl.show(title='adsfd')\n"
   ]
  },
  {
   "cell_type": "code",
   "execution_count": 6,
   "metadata": {},
   "outputs": [
    {
     "data": {
      "application/vnd.jupyter.widget-view+json": {
       "model_id": "54606247a211476084a7964e38830678",
       "version_major": 2,
       "version_minor": 0
      },
      "text/plain": [
       "Widget(value=\"<iframe src='http://localhost:63535/index.html?ui=P_0x2a6e5177070_2&reconnect=auto' style='width…"
      ]
     },
     "metadata": {},
     "output_type": "display_data"
    }
   ],
   "source": [
    "pl = pv_viz(eeg_file='Razorenova_128-eeg1005_ico4-dip_ico4-bem/Parcellation_2-lbl/2-lbl_eeg-0.npy',\n",
    "              dip_file='Razorenova_128-eeg1005_ico4-dip_ico4-bem/Parcellation_2-lbl/2-lbl_dip-0.npy',\n",
    "              head_file='AR_head_mfem.vtk')\n",
    "pl.show(title='adsfd')\n"
   ]
  },
  {
   "cell_type": "code",
   "execution_count": null,
   "metadata": {},
   "outputs": [],
   "source": []
  },
  {
   "cell_type": "code",
   "execution_count": 7,
   "metadata": {},
   "outputs": [
    {
     "data": {
      "text/plain": [
       "array([[-68.6497326 ,  17.67890167,  -9.95631475,   0.15405536],\n",
       "       [-71.77199088,   1.59124279, -52.09288413,   0.17524993],\n",
       "       [-65.26967979, -34.16980463, -23.80464556,   0.30888151],\n",
       "       [-67.43763163, -20.07741274,  15.22448141,   0.63774334],\n",
       "       [-60.98133899,  56.3763492 , -37.41199437,   0.10032843],\n",
       "       [-49.43845566,  68.67240891,   5.64980588,   0.00615312],\n",
       "       [-59.49058437,  36.36989491,  28.53850358,   0.13646013],\n",
       "       [-33.39158399,  58.6074641 ,  53.42062486,   0.07473957],\n",
       "       [-48.91604683, -58.56297031,  27.06602961,   0.79385365],\n",
       "       [-53.85151327,  -2.89392241,  53.8409652 ,   0.58602025],\n",
       "       [-14.02187465,  94.44368666,  18.60792342,   0.0314958 ],\n",
       "       [-21.3421024 ,  23.05492499,  74.20922567,   0.31576659],\n",
       "       [  8.54729905,  52.31446533,  72.1126653 ,   0.25474706],\n",
       "       [ 33.12683578,  93.35545348,  17.73914464,   0.27547807],\n",
       "       [  4.86588044, -15.46821957,  83.66781972,   0.50274401],\n",
       "       [ 37.0228418 ,  21.77152723,  74.51820428,   0.4542004 ],\n",
       "       [ 37.78202051, -48.09312508,  64.40785695,   0.52545141],\n",
       "       [  0.21848705, -72.72223758,  47.82654852,   0.56420249],\n",
       "       [ 25.49798475, -79.2508293 , -29.66984013,   0.35010058],\n",
       "       [ -3.09891879, -84.77894548, -24.8117116 ,   0.35137899],\n",
       "       [ 66.00938819,  -8.87473506,  50.45380408,   0.58831889],\n",
       "       [-29.95694257, -44.09669302,  65.20968363,   0.72191005],\n",
       "       [-31.15539395, -76.45297864, -27.96571   ,   0.33962661],\n",
       "       [ 50.53281803, -63.61750891,  23.96636228,   0.47662835],\n",
       "       [ 54.22408131,  57.02958484,  51.36449288,   0.50733276],\n",
       "       [ 75.67305639,  30.98259657,  26.2673469 ,   0.76419206],\n",
       "       [ 67.01770436,  64.12693076,   1.34863163,   0.68372353],\n",
       "       [ 71.79197052,  54.77512411, -43.04215163,   0.5636118 ],\n",
       "       [ 75.23155587, -27.67199302,  11.53530077,   0.58337587],\n",
       "       [ 67.13951431, -41.43589394, -27.77670356,   0.46711475],\n",
       "       [ 79.08457442,  11.32912565, -14.43168791,   0.71631786],\n",
       "       [ 77.49963437,  -1.25755686, -57.71821734,   0.50512815],\n",
       "       [-60.77226899,  45.33041562,  -3.23165564,   0.06180135],\n",
       "       [-71.52722722,  -7.15879417, -19.84517002,   0.22548333],\n",
       "       [-34.57450358,  86.77706268,  12.65090876,   0.00027608],\n",
       "       [-45.78829619,  63.3636221 ,  31.28904003,   0.00502877],\n",
       "       [-67.02381665,   8.61989112,  23.91847505,   0.34857639],\n",
       "       [-45.17989991,  29.88223706,  56.22592098,   0.24053167],\n",
       "       [-55.73881121, -33.63767638,  44.56400603,   1.        ],\n",
       "       [-61.06282952, -47.17329613,   3.04751607,   0.58887666],\n",
       "       [-36.08856782, -74.58970288,   2.22638185,   0.49002572],\n",
       "       [-53.15091641, -58.14266499, -27.26838006,   0.33745578],\n",
       "       [-26.38763574, -10.56544491,  74.64305733,   0.54394164],\n",
       "       [-27.12113253, -68.50858163,  43.52573605,   0.6785268 ],\n",
       "       [-17.87372357,  81.96320081,  41.15356581,   0.01574311],\n",
       "       [-14.75316708,  54.62503878,  66.56707999,   0.15725889],\n",
       "       [ 40.07513108,  79.81323893,  40.8088677 ,   0.35003624],\n",
       "       [  9.07201472,  95.31128353,  22.67958948,   0.11350669],\n",
       "       [  7.63637303,  20.42405637,  81.93777912,   0.37810605],\n",
       "       [ 34.34023272,  53.665218  ,  66.36334699,   0.36933878],\n",
       "       [  2.61946271, -48.19730485,  72.41808442,   0.57635845],\n",
       "       [ 39.08240129, -14.4235012 ,  73.96156493,   0.51202734],\n",
       "       [ -1.69020286, -84.37132349,  12.95306062,   0.45869688],\n",
       "       [ 29.36601375, -71.28482521,  42.08879916,   0.50163277],\n",
       "       [ 49.63893847, -63.81487479, -31.10856934,   0.38746229],\n",
       "       [ 33.30803126, -78.71785472,  -0.74024456,   0.40234144],\n",
       "       [ 62.07636484, -53.36167749,  -0.7642733 ,   0.47216125],\n",
       "       [ 63.22993273, -40.1605596 ,  41.93524459,   0.53827201],\n",
       "       [ 62.50647992,  25.24018817,  54.56295444,   0.59413137],\n",
       "       [ 79.49537205,   0.97809132,  20.53660191,   0.69875791],\n",
       "       [ 65.35233742,  59.01457149,  28.4136805 ,   0.67768575],\n",
       "       [ 54.12923725,  83.33603536,   9.00651452,   0.47158616],\n",
       "       [ 75.40715014,  38.96631891,  -6.5479509 ,   0.78697855],\n",
       "       [ 75.76844638, -14.37653772, -23.8101688 ,   0.58434088],\n",
       "       [-66.28627749,  26.46966529,  12.17852326,   0.16445956],\n",
       "       [-50.16167932,  79.09199174, -31.83540665,   0.09663153],\n",
       "       [-66.34541566, -27.31472893,  -4.98301678,   0.43460208],\n",
       "       [-46.47313056,  48.12824643,  44.83551291,   0.09150963],\n",
       "       [-63.37473187, -13.22922135,  36.41083941,   0.74760511],\n",
       "       [-38.58018737,  10.59823558,  65.43714995,   0.40761439],\n",
       "       [-42.6460254 , -53.72618184,  48.40204795,   0.84003827],\n",
       "       [-61.85659929, -20.47937682, -55.52455718,   0.20024875],\n",
       "       [-59.63818592, -41.83307122, -43.34404972,   0.25241814],\n",
       "       [-52.86009446, -46.23031299, -62.04127336,   0.23580672],\n",
       "       [-12.54828199, -30.71581389,  77.84203777,   0.5856887 ],\n",
       "       [-12.52389695, -77.83298797,  29.80061609,   0.55266493],\n",
       "       [ -0.97738393,  66.53359328,  62.00554385,   0.14512803],\n",
       "       [ -4.69703562,  37.50062015,  76.49721237,   0.27167458],\n",
       "       [ 22.45456609,  36.96965833,  76.34690923,   0.35729153],\n",
       "       [ 20.02161673,  65.47747443,  61.9907025 ,   0.25086445],\n",
       "       [ 12.20095602, -78.44517319,  29.72501881,   0.48933231],\n",
       "       [ 22.21912267, -32.95169659,  77.72383289,   0.52628297],\n",
       "       [ 48.65027109, -51.87730776, -65.78086999,   0.36053798],\n",
       "       [ 58.0861672 , -47.66779213, -47.95003572,   0.40369391],\n",
       "       [ 47.09373013, -57.8959026 ,  46.33282256,   0.51014006],\n",
       "       [ 51.95368178,   6.30256512,  65.1725327 ,   0.53442617],\n",
       "       [ 74.67123729, -19.92273502,  32.93247663,   0.60188237],\n",
       "       [ 66.20018297,  44.18256131,  42.02137078,   0.6544796 ],\n",
       "       [ 71.7453098 , -35.06223936,  -9.60488876,   0.52731975],\n",
       "       [ 79.89293253,  19.84254549,   7.81092176,   0.78209704],\n",
       "       [ 66.59345333,  73.20656916, -36.80005426,   0.5083403 ],\n",
       "       [-69.76976108,   0.5741592 ,   4.30911836,   0.31576728],\n",
       "       [-68.05559942, -12.52121063, -38.2277997 ,   0.19753333],\n",
       "       [-63.62310641,  39.39515265, -24.77422124,   0.09239454],\n",
       "       [-56.84173148,  61.88583534, -17.35752402,   0.06112876],\n",
       "       [-55.1850475 ,  54.08298119,  17.12624731,   0.03324836],\n",
       "       [-32.81181455,  72.80821671,  39.05298179,   0.        ],\n",
       "       [-58.61318054,  18.25404551,  42.76031214,   0.32135654],\n",
       "       [-30.7364237 ,  43.88154937,  64.22951448,   0.16962478],\n",
       "       [-43.42287571, -22.51711419,  60.78984079,   0.7440663 ],\n",
       "       [-59.60434138, -41.13806601,  24.2228061 ,   0.9531595 ],\n",
       "       [-43.01723838, -63.1826074 , -46.37989787,   0.27745338],\n",
       "       [-32.58617807, -77.0686327 , -13.39730852,   0.39780816],\n",
       "       [-13.83300456, -60.86570796,  60.4265118 ,   0.63939469],\n",
       "       [-16.04513784, -84.08642463,  -5.42571527,   0.41244575],\n",
       "       [ -1.45613125,  87.89291155,  37.64678729,   0.05512067],\n",
       "       [ -9.07191585,   3.60552266,  82.42366468,   0.43790792],\n",
       "       [ 22.44627775,   2.9403564 ,  81.58866944,   0.45626144],\n",
       "       [ 21.19282257,  87.06553399,  37.82586671,   0.18982032],\n",
       "       [ 10.8559604 , -85.04607799,  -7.97210258,   0.38636374],\n",
       "       [ 19.82035775, -63.32396046,  59.52724298,   0.53721241],\n",
       "       [ 28.22631768, -80.15993556, -16.39591378,   0.36987956],\n",
       "       [ 37.53978969, -66.99301593, -48.29106888,   0.34799182],\n",
       "       [ 65.11493382, -47.52550155,  20.78776084,   0.51443281],\n",
       "       [ 53.78007065, -28.95423402,  60.71129156,   0.53669395],\n",
       "       [ 48.42619004,  40.16293613,  64.69505016,   0.4809353 ],\n",
       "       [ 73.84025159,  11.85102146,  38.92250423,   0.67699035],\n",
       "       [ 52.41145109,  70.28285949,  39.1319412 ,   0.4879028 ],\n",
       "       [ 72.1721743 ,  47.67224084,  14.21900468,   0.79683024],\n",
       "       [ 72.16422283,  55.66717421, -21.18942737,   0.6596326 ],\n",
       "       [ 78.93240182,  -7.86310481,  -0.28844704,   0.6661662 ],\n",
       "       [ 70.16411247, -21.78853902, -42.27158316,   0.49566259]])"
      ]
     },
     "execution_count": 7,
     "metadata": {},
     "output_type": "execute_result"
    }
   ],
   "source": [
    "np.load('Razorenova_128-eeg1005_ico4-dip_ico4-bem/Parcellation_2-lbl/2-lbl_eeg-0.npy')"
   ]
  },
  {
   "cell_type": "code",
   "execution_count": 8,
   "metadata": {},
   "outputs": [
    {
     "data": {
      "text/plain": [
       "array([[ -7.08032089, -73.37153083,  -0.84303944,   0.        ],\n",
       "       [ -2.78011728, -72.57493711,   3.98560441,   0.        ],\n",
       "       [-11.21174649, -72.11812711,   2.34815304,   0.        ],\n",
       "       ...,\n",
       "       [ 26.62434577,  -6.2256003 , -21.62019392,   0.        ],\n",
       "       [ 58.11489681,  14.69724121, -31.51203379,   0.        ],\n",
       "       [ 18.53037972,  12.15833737, -12.99382138,   0.        ]])"
      ]
     },
     "execution_count": 8,
     "metadata": {},
     "output_type": "execute_result"
    }
   ],
   "source": [
    "np.load('Razorenova_128-eeg1005_ico4-dip_ico4-bem/Parcellation_2-lbl/2-lbl_dip-0.npy')"
   ]
  },
  {
   "cell_type": "code",
   "execution_count": 9,
   "metadata": {},
   "outputs": [
    {
     "data": {
      "text/plain": [
       "<pyvista.plotting.plotting.Plotter at 0x2a6e5177070>"
      ]
     },
     "execution_count": 9,
     "metadata": {},
     "output_type": "execute_result"
    }
   ],
   "source": [
    "pl"
   ]
  },
  {
   "cell_type": "code",
   "execution_count": 10,
   "metadata": {},
   "outputs": [
    {
     "name": "stdout",
     "output_type": "stream",
     "text": [
      "matplotlib==3.5.0\n",
      "matplotlib-inline==0.1.6\n",
      "trame-matplotlib==2.0.1\n"
     ]
    },
    {
     "name": "stderr",
     "output_type": "stream",
     "text": [
      "WARNING: Could not generate requirement for distribution -rotobuf 4.21.5 (f:\\python\\python38\\lib\\site-packages): Parse error at \"'-rotobuf'\": Expected W:(abcd...)\n"
     ]
    }
   ],
   "source": [
    "!pip freeze | grep matplotlib"
   ]
  },
  {
   "cell_type": "code",
   "execution_count": null,
   "metadata": {},
   "outputs": [],
   "source": []
  }
 ],
 "metadata": {
  "kernelspec": {
   "display_name": "Python 3",
   "language": "python",
   "name": "python3"
  },
  "language_info": {
   "codemirror_mode": {
    "name": "ipython",
    "version": 3
   },
   "file_extension": ".py",
   "mimetype": "text/x-python",
   "name": "python",
   "nbconvert_exporter": "python",
   "pygments_lexer": "ipython3",
   "version": "3.8.6"
  },
  "orig_nbformat": 4,
  "vscode": {
   "interpreter": {
    "hash": "3cec38438bd1ed57aae43b0657f6c71a8a656656e570ed57ad72b18279af4187"
   }
  }
 },
 "nbformat": 4,
 "nbformat_minor": 2
}
