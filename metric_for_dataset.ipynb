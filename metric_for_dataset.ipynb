{
 "cells": [
  {
   "cell_type": "code",
   "execution_count": 1,
   "metadata": {},
   "outputs": [],
   "source": [
    "import numpy as np\n",
    "from tqdm.notebook import tqdm\n",
    "import matplotlib.pyplot as plt\n",
    "from scipy.special import softmax\n",
    "from sklearn.cluster import AgglomerativeClustering\n",
    "from tqdm import tqdm\n",
    "import h5py\n",
    "\n",
    "import matplotlib as mpl\n",
    "mpl.rcParams['figure.dpi'] = 150"
   ]
  },
  {
   "cell_type": "code",
   "execution_count": 2,
   "metadata": {},
   "outputs": [],
   "source": [
    "def metric_by_radius(y_true, y_pred, r):\n",
    "    \n",
    "    true_positives = 0  # they are true, and we chosen them\n",
    "    false_negatives = 0 # they are true, but we haven't chosen them\n",
    "    false_positives = 0  # they are false, but we chosen them\n",
    "\n",
    "    indices_good = set()\n",
    "\n",
    "    for i in range(len(y_true)):\n",
    "        dist = np.linalg.norm(y_pred - y_true[i], axis=1)\n",
    "\n",
    "\n",
    "        true_positives += int(len(dist[dist <= r]) > 0)\n",
    "\n",
    "\n",
    "        cur_true_indices = np.where(dist <= r)[0]\n",
    "        if len(cur_true_indices) > 0:\n",
    "            indices_good.update([cur_true_indices[0]])\n",
    "        else:\n",
    "            false_negatives += 1\n",
    "\n",
    "\n",
    "    false_positives = len(y_pred) - len(indices_good)\n",
    "\n",
    "\n",
    "    return true_positives, false_positives, false_negatives"
   ]
  },
  {
   "cell_type": "code",
   "execution_count": 3,
   "metadata": {},
   "outputs": [],
   "source": [
    "def get_prob_of_dipole(output, batch_number):\n",
    "    one_pred = []\n",
    "\n",
    "    one_pred.append(output[1, batch_number])\n",
    "    one_pred.append(output[2, batch_number])\n",
    "\n",
    "    one_pred = np.array(one_pred)\n",
    "    one_pred = np.transpose(one_pred, (1,2,3,0))\n",
    "    proba_one = softmax(one_pred, axis=3)\n",
    "\n",
    "    return proba_one[:, :, :, 1]\n",
    "\n",
    "\n",
    "def output_to_coords(array, threshold):\n",
    "    array = array.squeeze()\n",
    "\n",
    "    return np.array(np.where(array.squeeze() > threshold)).T"
   ]
  },
  {
   "cell_type": "code",
   "execution_count": 4,
   "metadata": {},
   "outputs": [],
   "source": [
    "# from cubes in space return the centeres of the cudes := inverce of augmentation function\n",
    "def deaugmentation(y, grid, AUG=2):\n",
    "    y_deaugmented = np.zeros((grid,grid,grid))\n",
    "    y_augmented = np.zeros((grid,grid,grid))\n",
    "\n",
    "    mask = np.ones((AUG*2+1,AUG*2+1,AUG*2+1)).tolist()\n",
    "    for coord in y:\n",
    "        y_augmented[tuple(coord.tolist())] = 1\n",
    "    for coord in  np.ndindex(y_augmented.shape):\n",
    "        if y_augmented[coord[0]-AUG:coord[0]+AUG+1,\n",
    "                       coord[1]-AUG:coord[1]+AUG+1,\n",
    "                       coord[2]-AUG:coord[2]+AUG+1].tolist() == mask: y_deaugmented[coord] = 1\n",
    "\n",
    "    return np.array(np.where(y_deaugmented == 1)).T"
   ]
  },
  {
   "cell_type": "code",
   "execution_count": 92,
   "metadata": {},
   "outputs": [],
   "source": [
    "\n",
    "def load_output(output, batch_size, grid, augmented=False, do_print=False):\n",
    "\n",
    "    # (4, 8, 64, 64, 64) - output shape 1 and 2 channels - background and dipoles\n",
    "    \n",
    "    for batch_number in range(0, batch_size):\n",
    "        y_pred = get_prob_of_dipole(output, batch_number)\n",
    "        y_true = output[3, batch_number].squeeze()\n",
    "\n",
    "        if do_print:\n",
    "            print(y_true.shape, np.min(y_true), np.max(y_true), np.mean(y_true))\n",
    "            print(y_pred.shape, np.min(y_pred), np.max(y_pred), np.mean(y_pred))\n",
    "        \n",
    "        \n",
    "        y_true = output_to_coords(y_true, 0.5)\n",
    "        y_pred = output_to_coords(y_pred, 0.72)\n",
    "        \n",
    "\n",
    "        if do_print:\n",
    "            print(y_true.shape, np.min(y_true), np.max(y_true), np.mean(y_true))\n",
    "            print(y_pred.shape, np.min(y_pred), np.max(y_pred), np.mean(y_pred))\n",
    "        if augmented:\n",
    "            y_true = deaugmentation(y_true, grid, AUG=2)\n",
    "            \n",
    "        yield y_true, y_pred"
   ]
  },
  {
   "cell_type": "code",
   "execution_count": 53,
   "metadata": {},
   "outputs": [],
   "source": [
    "\n",
    "def metric(output, rng, batch_size, grid, augmented=False):\n",
    "    batch_result = []\n",
    "    for (y_true, y_pred) in tqdm(load_output(output, batch_size, grid, augmented)):\n",
    "        result = []\n",
    "        for r in np.arange(0, rng):\n",
    "            \n",
    "            \n",
    "\n",
    "            try:\n",
    "                ac = AgglomerativeClustering(n_clusters=None, distance_threshold=r)\n",
    "                y_pred_clusters = ac.fit_predict(y_pred, 2)\n",
    "\n",
    "                temp = []\n",
    "                for cluster_n in range(max(y_pred_clusters)):\n",
    "                    temp.append(y_pred[y_pred_clusters == cluster_n].mean(axis=0))\n",
    "\n",
    "                y_pred = np.array(temp)\n",
    "\n",
    "                r_result = metric_by_radius(y_true, y_pred, r)\n",
    "                result.append(r_result)\n",
    "\n",
    "            except ValueError:\n",
    "                \n",
    "                result.append(np.array([0,0,0]))\n",
    "                continue\n",
    "\n",
    "\n",
    "        batch_result.append(result)\n",
    "        # result.append(list(r_result) + [r_result[0] + r_result[1], max(y_pred_clusters)])\n",
    "\n",
    "    return np.array(batch_result)"
   ]
  },
  {
   "cell_type": "code",
   "execution_count": 7,
   "metadata": {},
   "outputs": [],
   "source": [
    "def f1_r(tp, fp, fn, r, label=None):\n",
    "    f1_score = tp / (tp + 1/2*(fp + fn))\n",
    "\n",
    "    # plt.plot(r, f1_score, marker='o', label=label)\n",
    "    # plt.xlabel('radius')\n",
    "    # plt.ylabel('f1 score')\n",
    "    return f1_score.tolist()"
   ]
  },
  {
   "cell_type": "code",
   "execution_count": null,
   "metadata": {},
   "outputs": [],
   "source": [
    "data = h5py.File('C:/Users/spaik/Desktop/test/vnet_CrossEntropy_AUGMENTATION-None-4000-pred-epochs-120.h5', 'r')\n",
    "keys = list(data.keys())\n",
    "\n",
    "global_results = []\n",
    "for batch_id in range(len(data)):\n",
    "    output = data[keys[batch_id]]\n",
    "    batch_results = metric(output, rng=10, batch_size=8, grid=64, augmented=False)\n",
    "    global_results.append(batch_results)\n"
   ]
  },
  {
   "cell_type": "code",
   "execution_count": 187,
   "metadata": {},
   "outputs": [],
   "source": [
    "# np.savez_compressed('C:/Users/spaik/Desktop/metrics/vnet_CrossEntropy_AUGMENTATION-None-4000-pred-epochs-120-thr-0.72.npz', np.array(global_results))\n",
    "global_results = np.load('C:/Users/spaik/Desktop/metrics/vnet_CrossEntropy_AUGMENTATION-None-4000-pred-epochs-120-thr-0.72.npz')\n",
    "global_results = global_results['arr_0']"
   ]
  },
  {
   "cell_type": "code",
   "execution_count": 109,
   "metadata": {},
   "outputs": [],
   "source": [
    "# random_dots - 5 arrays (10, 100, 1000, 10000, 100000) with mean\n",
    "# and std for different radius (from 0 to 10)\n",
    "\n",
    "random_dots = [(np.array([0.        , 0.00131579, 0.00131579, 0.00394737, 0.00922807,\n",
    "         0.02891365, 0.04829474, 0.08815958, 0.12940027, 0.17222693]),\n",
    "  np.array([0.        , 0.00573539, 0.00573539, 0.00939662, 0.01912879,\n",
    "         0.03204208, 0.04498496, 0.05009552, 0.05944999, 0.08234616])),\n",
    " (np.array([0.        , 0.00155039, 0.00544462, 0.02892009, 0.06434668,\n",
    "         0.12129317, 0.19052411, 0.28998764, 0.40207362, 0.4898116 ]),\n",
    "  np.array([0.        , 0.00465116, 0.00741995, 0.01807085, 0.02976045,\n",
    "         0.04488718, 0.03819956, 0.04783885, 0.06133034, 0.05694628])),\n",
    " (np.array([0.        , 0.00323977, 0.01804566, 0.04934698, 0.10221175,\n",
    "         0.18154454, 0.26491887, 0.34804142, 0.42231814, 0.47575555]),\n",
    "  np.array([0.        , 0.00269204, 0.00641606, 0.01541013, 0.02049377,\n",
    "         0.02344445, 0.02602638, 0.01925914, 0.01429087, 0.01142512])),\n",
    " (np.array([0.        , 0.00177927, 0.01529439, 0.04141366, 0.07739052,\n",
    "         0.10968165, 0.13480457, 0.15552151, 0.17497888, 0.1948055 ]),\n",
    "  np.array([0.        , 0.00138854, 0.00354078, 0.00336333, 0.00423679,\n",
    "         0.00251234, 0.00132979, 0.00151926, 0.00192673, 0.00272703])),\n",
    " (np.array([0.        , 0.0021175 , 0.01106643, 0.02111316, 0.02854416,\n",
    "         0.03597633, 0.04345906, 0.05126714, 0.05902984, 0.06680566]),\n",
    "  np.array([0.        , 0.00040904, 0.00073354, 0.00034265, 0.00013627,\n",
    "         0.00016559, 0.0001527 , 0.00030113, 0.0003078 , 0.0002667 ]))]"
   ]
  },
  {
   "cell_type": "code",
   "execution_count": 188,
   "metadata": {},
   "outputs": [
    {
     "data": {
      "text/plain": [
       "<matplotlib.legend.Legend at 0x1e490230af0>"
      ]
     },
     "execution_count": 188,
     "metadata": {},
     "output_type": "execute_result"
    },
    {
     "data": {
      "image/png": "[encoded data removed]",
      "text/plain": [
       "<Figure size 900x600 with 1 Axes>"
      ]
     },
     "metadata": {
      "needs_background": "light"
     },
     "output_type": "display_data"
    }
   ],
   "source": [
    "f1_scores = []\n",
    "empty = np.array([0,0,0])\n",
    "for batch_results in global_results:\n",
    "    for image in batch_results:\n",
    "        if empty in image:\n",
    "            continue\n",
    "        else:\n",
    "            f1_scores.append(f1_r(*image.T, np.arange(10)))\n",
    "f1_scores = np.array(f1_scores).T\n",
    "over_all_scores = (f1_scores.mean(axis=1), f1_scores.std(axis=1))\n",
    "plt.plot(range(10), over_all_scores[0], label='predicted dipoles')\n",
    "plt.fill_between(range(10), over_all_scores[0]-over_all_scores[1], over_all_scores[0]+over_all_scores[1], alpha=0.2)\n",
    "\n",
    "plt.plot(range(10), random_dots[0][0], label='random dots')\n",
    "plt.fill_between(range(10), random_dots[0][0]-random_dots[0][1], random_dots[0][0]+random_dots[0][1], alpha=0.2)\n",
    "\n",
    "plt.grid()\n",
    "plt.xlabel('radius')\n",
    "plt.ylabel('F1 score')\n",
    "plt.ylim([0,1])\n",
    "plt.legend()\n",
    "# plt.savefig('C:/Users/spaik/Desktop/metrics/vnet_CrossEntropy_AUGMENTATION-None-4000-pred-epochs-270.jpg')"
   ]
  }
 ],
 "metadata": {
  "kernelspec": {
   "display_name": "Python 3",
   "language": "python",
   "name": "python3"
  },
  "language_info": {
   "codemirror_mode": {
    "name": "ipython",
    "version": 3
   },
   "file_extension": ".py",
   "mimetype": "text/x-python",
   "name": "python",
   "nbconvert_exporter": "python",
   "pygments_lexer": "ipython3",
   "version": "3.9.13"
  },
  "orig_nbformat": 4
 },
 "nbformat": 4,
 "nbformat_minor": 2
}
