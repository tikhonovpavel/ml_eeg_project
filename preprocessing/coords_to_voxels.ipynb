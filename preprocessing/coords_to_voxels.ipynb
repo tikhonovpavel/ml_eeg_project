{
 "cells": [
  {
   "cell_type": "code",
   "execution_count": 2,
   "metadata": {},
   "outputs": [],
   "source": [
    "import os\n",
    "import math\n",
    "from tqdm import tqdm\n",
    "import itertools\n",
    "\n",
    "import numpy as np\n",
    "import raster_geometry as rg"
   ]
  },
  {
   "cell_type": "code",
   "execution_count": 5,
   "metadata": {},
   "outputs": [],
   "source": [
    "def turn_to_voxel(file, GRID, AUGMENTATION, file_for_scale=None):\n",
    "    \n",
    "    def transformation(point, min, max, GRID):\n",
    "        \"\"\"\n",
    "        Compute coordinates in voxelled volume from mesh coordinates\n",
    "        \"\"\"\n",
    "        coord = []\n",
    "        for point, min, max in zip(point, min, max):\n",
    "            coord.append(int((point-min)/(max-min)*(GRID-1)))\n",
    "        return tuple(coord)\n",
    "    \n",
    "    \n",
    "    def augmentation(volume, value, coord, lat=None):\n",
    "        \"\"\"\n",
    "        Add current voxels to the volume as square with the size of 2*ADDITIONAL(lat)+1 side and coodr as center\n",
    "        \"\"\"\n",
    "        # if no augmentation only add dot into volume\n",
    "        if lat is None:\n",
    "            volume[coord] = value\n",
    "            return volume\n",
    "        coord_min, coord_max = [0]*3, [0]*3\n",
    "        # compute the coords of current voxel\n",
    "        for dim in range(3):\n",
    "            coord_min[dim] = int(np.max((0,coord[dim]-lat)))\n",
    "            coord_max[dim] = int(np.min((coord[dim]+lat+1, GRID)))\n",
    "\n",
    "        # if there are neighbouring current dots it is importsnt to adjust additional voxels. For now if values of augmented voxels conpemplate the value = mean(value1, value2)\n",
    "        old_values = volume[coord_min[0]:coord_max[0],\n",
    "                            coord_min[1]:coord_max[1],\n",
    "                            coord_min[2]:coord_max[2],]\n",
    "        volume[coord_min[0]:coord_max[0],\n",
    "            coord_min[1]:coord_max[1],\n",
    "            coord_min[2]:coord_max[2],] = value\n",
    "        if (old_values != 0).any():\n",
    "            old_values[tuple(np.nonzero(old_values))] = (old_values[tuple(np.nonzero(old_values))]+value)/2.\n",
    "            volume[coord_min[0]:coord_max[0],\n",
    "                   coord_min[1]:coord_max[1],\n",
    "                   coord_min[2]:coord_max[2],] = old_values\n",
    "        return volume\n",
    "    \n",
    "\n",
    "    volume = np.zeros((GRID, GRID, GRID)) \n",
    "    min, max = [0]*3, [0]*3\n",
    "    if file_for_scale is None: file_for_scale = file\n",
    "    # compute the values ranges for scaling\n",
    "    for dim in range(3):\n",
    "        min[dim] = np.min(file_for_scale[:,dim])\n",
    "        max[dim] = np.max(file_for_scale[:,dim])\n",
    "\n",
    "    for point in file:\n",
    "        coord = transformation(point[:3], min, max, GRID)\n",
    "        volume = augmentation(volume, point[3], coord, AUGMENTATION)\n",
    "\n",
    "    return volume"
   ]
  },
  {
   "cell_type": "code",
   "execution_count": 6,
   "metadata": {},
   "outputs": [],
   "source": [
    "def add_negative_sphere(coords, GRID, SPHERE_VALUE, *additional_volumes):\n",
    "    \"\"\"\n",
    "    Replacing the zeros in the centre of the volume with the negative values might help our model to train.\n",
    "    \"\"\"\n",
    "    \n",
    "\n",
    "    holed_volumes = []\n",
    "    eucl_dists = []\n",
    "\n",
    "    # coordinate of the center in all 3 dimentions\n",
    "    grid_center = math.ceil(GRID/2)\n",
    "\n",
    "    # compute the distance to all non-zero voxels from center of volume\n",
    "    for point in coords:\n",
    "        eucl_dists.append(np.linalg.norm(tuple(dimention - grid_center for dimention in point)))\n",
    "\n",
    "    # get te closest current point\n",
    "    radius = np.sort(eucl_dists)[0]\n",
    "    print('Sphere radius: ' + str(radius))\n",
    "\n",
    "    # draw the sphere mask\n",
    "    sphere = rg.sphere(shape=(GRID, GRID, GRID), radius=math.floor(radius), position=(grid_center,grid_center,grid_center)).astype(np.int_)\n",
    "    \n",
    "    # draw sphere into the volumes\n",
    "    for volume in additional_volumes:\n",
    "        volume[sphere == 1] = SPHERE_VALUE\n",
    "        holed_volumes.append(volume)\n",
    "    \n",
    "    return holed_volumes"
   ]
  },
  {
   "cell_type": "code",
   "execution_count": 7,
   "metadata": {},
   "outputs": [],
   "source": [
    "def preprocess_meshes(electrodes_dir, labels_dir, file_path, GRID=65, paired_scale=False,\n",
    "                      AUGMENTATION=None, add_hole=None, SPHERE_VALUE=-20):\n",
    "    \"\"\"\n",
    "\n",
    "    Saves processed dipole currents and electrodes values as np.array in 3D shape of GRID.\n",
    "\n",
    "    Parameters\n",
    "    ----------\n",
    "\n",
    "    electrodes_dir, labels_dir, file_path: str\n",
    "        Directory of electrode files, brain currents files, and saving dir\n",
    "    GRID: int\n",
    "        The size of zquared voxel model, better to make it odd as center is needed for sphere\n",
    "    paired_scale: True, False\n",
    "        Whether the same scale used for input and output is used\n",
    "        (input for both as electrode always surround brain surface with current values)\n",
    "    AUGMENTATION: int\n",
    "        How many additional pixels arround current dot get non-zero value\n",
    "        (for now the same as the main voxel, later may be beter to include prob function)\n",
    "    add_hole: True, False, None\n",
    "        Add fulled shere with negative values inside brain surphase. True - the shpere\n",
    "        is added to both files (the sphere radius is the same). not None - the sphere\n",
    "        is added only to output file with brain currents\n",
    "    SPHERE_VALUE: int\n",
    "        The value to fill the sphere\n",
    "    \"\"\"\n",
    "\n",
    "    \n",
    "    # create new directories for voxeled models, created with given parameters\n",
    "    \n",
    "    \n",
    "    if not os.path.isdir(os.path.join(file_path, f'GRID-{GRID}')):\n",
    "        os.mkdir(os.path.join(file_path, f'GRID-{GRID}'))\n",
    "    \n",
    "    if not os.path.isdir(os.path.join(file_path, f'GRID-{GRID}', f'paired_scale-{paired_scale}')):\n",
    "        os.mkdir(os.path.join(file_path, f'GRID-{GRID}', f'paired_scale-{paired_scale}'))   \n",
    "\n",
    "    if not os.path.isdir(os.path.join(file_path, f'GRID-{GRID}', f'paired_scale-{paired_scale}', f'AUGMENTATION-{AUGMENTATION}')):\n",
    "        os.mkdir(os.path.join(file_path, f'GRID-{GRID}', f'paired_scale-{paired_scale}', f'AUGMENTATION-{AUGMENTATION}'))\n",
    "\n",
    "    to_save_dir = os.path.join(file_path, f'GRID-{GRID}', f'paired_scale-{paired_scale}', f'AUGMENTATION-{AUGMENTATION}')\n",
    "\n",
    "    os.mkdir(os.path.join(to_save_dir, 'electrodes'))\n",
    "    os.mkdir(os.path.join(to_save_dir, 'dipoles'))\n",
    "\n",
    "    for electrode_filename, labels_filename in tqdm(zip(os.listdir(electrodes_dir), os.listdir(labels_dir))):\n",
    "        # load pair of input/output\n",
    "        electrodes_file = np.load(os.path.join(electrodes_dir, electrode_filename))\n",
    "        labels_file = np.load(os.path.join(labels_dir, labels_filename))\n",
    "\n",
    "        # rescale both files into volumes\n",
    "        if paired_scale is True:\n",
    "            electrodes_volume = turn_to_voxel(electrodes_file, GRID, AUGMENTATION)\n",
    "            labels_volume = turn_to_voxel(labels_file, GRID, AUGMENTATION, electrodes_file)\n",
    "        else: # each file is scaled separately - image inscribed into square\n",
    "            electrodes_volume = turn_to_voxel(electrodes_file, GRID, AUGMENTATION)\n",
    "            labels_volume = turn_to_voxel(labels_file, GRID, AUGMENTATION)\n",
    "        if add_hole is True: # the shpere is added to both files (the sphere radius is the same)\n",
    "            labels_volume, electrodes_volume = add_negative_sphere(labels_file[:,:3], SPHERE_VALUE, labels_volume, electrodes_volume)\n",
    "        elif add_hole is not None: # the sphere is added only to output file with brain currents\n",
    "            labels_volume, _ = add_negative_sphere(labels_file[:,:3], GRID, SPHERE_VALUE, labels_volume)\n",
    "        \n",
    "        np.savez_compressed(os.path.join(to_save_dir, f'electrodes/{electrode_filename}'), electrodes_volume, allow_pickle=True)\n",
    "        np.savez_compressed(os.path.join(to_save_dir, f'dipoles/{labels_filename}'), labels_volume, allow_pickle=True)"
   ]
  },
  {
   "cell_type": "code",
   "execution_count": 8,
   "metadata": {},
   "outputs": [
    {
     "name": "stderr",
     "output_type": "stream",
     "text": [
      "4000it [02:06, 31.59it/s]\n",
      "4000it [01:23, 48.13it/s]\n",
      "4000it [08:59,  7.42it/s]\n",
      "4000it [09:00,  7.41it/s]\n",
      "4000it [02:29, 26.79it/s]\n",
      "4000it [02:37, 25.34it/s]\n",
      "4000it [10:54,  6.11it/s]\n",
      "4000it [10:50,  6.15it/s]\n"
     ]
    }
   ],
   "source": [
    "file_path = 'C:/Users/spaik/Documents/lab/ML_project/data/1.3.23_dense_dip/162-dip__ico2/Parcellation_64-lbl/train'\n",
    "electrodes_dir = 'C:/Users/spaik/Documents/lab/ML_project/data/1.3.23_dense_dip/162-dip__ico2/Parcellation_64-lbl/input'\n",
    "labels_dir = 'C:/Users/spaik/Documents/lab/ML_project/data/1.3.23_dense_dip/162-dip__ico2/Parcellation_64-lbl/output'\n",
    "\n",
    "parameters = {'AUGMENTATION': [None, 2], 'GRID': [65, 129], 'paired_scale': [False, True]}\n",
    "combinations = itertools.product(*(parameters[name] for name in parameters))\n",
    "# print(list(combinations))\n",
    "\n",
    "for (AUGMENTATION, GRID, paired_scale) in list(combinations):\n",
    "    preprocess_meshes(electrodes_dir, labels_dir, file_path, AUGMENTATION=AUGMENTATION, GRID=GRID, paired_scale=paired_scale)"
   ]
  },
  {
   "cell_type": "code",
   "execution_count": 1,
   "metadata": {},
   "outputs": [],
   "source": [
    "## Renaming files\n",
    "\n",
    "# path = 'C:/Users/spaik/Documents/lab/ML_project/data/1.3.23_dense_dip/162-dip__ico2/AB__1005eeg-128__ico2-dip__ico4-bem__fwd/Parcellation_64-lbl/AB__1005eeg-128__ico2-dip__ico4-bem__fwd'\n",
    "# for filename in os.listdir(path):\n",
    "#     os.rename(filename, ('AB_' + filename))"
   ]
  },
  {
   "cell_type": "code",
   "execution_count": 194,
   "metadata": {},
   "outputs": [],
   "source": [
    "# import pyvista as pv\n",
    "# electrodes = 'C:/Users/andru/Downloads/Telegram Desktop/Razorenova_128-eeg1005_ico4-dip_ico4-bem/Parcellation_2-lbl/2-lbl_dip-0.npy'\n",
    "\n",
    "# eeg_data = eeg[:,-1]\n",
    "# eeg_data = eeg_data[:, np.newaxis]\n",
    "# z = np.zeros(eeg_data.shape)\n",
    "# eeg_data = 255*np.concatenate((eeg_data, z, z), axis=1)\n",
    "\n",
    "# eeg_mesh = pv.PolyData(eeg[:,:-1])\n",
    "# eeg_mesh[\"colors\"] = eeg_data.astype(np.uint8)\n",
    "\n",
    "# pl = pv.Plotter()\n",
    "# pl.add_mesh(eeg_mesh, scalars=\"colors\", rgb=True)\n",
    "# pl.show()"
   ]
  },
  {
   "cell_type": "code",
   "execution_count": 188,
   "metadata": {},
   "outputs": [
    {
     "data": {
      "image/png": "[encoded data removed]",
      "text/plain": [
       "<Figure size 640x480 with 1 Axes>"
      ]
     },
     "metadata": {},
     "output_type": "display_data"
    },
    {
     "data": {
      "image/png": "[encoded data removed]",
      "text/plain": [
       "<Figure size 640x480 with 1 Axes>"
      ]
     },
     "metadata": {},
     "output_type": "display_data"
    }
   ],
   "source": [
    "# to check the output\n",
    "\n",
    "# import matplotlib.pyplot as plt\n",
    "# electrodes = 'C:/Users/andru/Downloads/Telegram Desktop/Razorenova_128-eeg1005_ico4-dip_ico4-bem/train/65_False_None_None_-20/input/2-lbl_dip-0.npy'\n",
    "# curr = 'C:/Users/andru/Downloads/Telegram Desktop/Razorenova_128-eeg1005_ico4-dip_ico4-bem/train/65_False_None_None_-20/output/2-lbl_eeg-0.npy'\n",
    "# eeg = np.load(electrodes)\n",
    "# dic = np.load(curr)\n",
    "# sprase = np.array(np.nonzero(eeg))\n",
    "# values = eeg[np.nonzero(eeg)]\n",
    "\n",
    "# x,y,z = np.nonzero(dic)\n",
    "# values_d = dic[np.nonzero(dic)]\n",
    "# # print(eeg)\n",
    "# fig = plt.figure()\n",
    "# ax = fig.add_subplot(111, projection='3d')\n",
    "# ax.scatter(sprase[0], sprase[1], sprase[2], c=values, alpha=1)\n",
    "# ax.axis('off')\n",
    "# plt.show()\n",
    "\n",
    "# fig = plt.figure()\n",
    "# ax = fig.add_subplot(111, projection='3d')\n",
    "# ax.scatter(x,y,z, c=values_d, alpha=1)\n",
    "# ax.axis('off')\n",
    "# plt.show()"
   ]
  },
  {
   "cell_type": "code",
   "execution_count": null,
   "metadata": {},
   "outputs": [],
   "source": []
  }
 ],
 "metadata": {
  "kernelspec": {
   "display_name": "Python 3",
   "language": "python",
   "name": "python3"
  },
  "language_info": {
   "codemirror_mode": {
    "name": "ipython",
    "version": 3
   },
   "file_extension": ".py",
   "mimetype": "text/x-python",
   "name": "python",
   "nbconvert_exporter": "python",
   "pygments_lexer": "ipython3",
   "version": "3.9.13"
  },
  "orig_nbformat": 4,
  "vscode": {
   "interpreter": {
    "hash": "c347c8f9a7ef94e4c9e03b4513be7835ed18f45b99a2a817fb579f408b867b16"
   }
  }
 },
 "nbformat": 4,
 "nbformat_minor": 2
}
